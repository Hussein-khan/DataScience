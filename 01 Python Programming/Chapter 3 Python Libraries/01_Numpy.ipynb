{
 "cells": [
  {
   "cell_type": "code",
   "execution_count": 1,
   "id": "0a677ae6",
   "metadata": {},
   "outputs": [],
   "source": [
    "#pip install numpy "
   ]
  },
  {
   "cell_type": "code",
   "execution_count": 1,
   "id": "f106e496",
   "metadata": {},
   "outputs": [],
   "source": [
    "#import the dependencies\n",
    "import numpy as np"
   ]
  },
  {
   "cell_type": "code",
   "execution_count": 2,
   "id": "cf171943",
   "metadata": {},
   "outputs": [
    {
     "data": {
      "text/plain": [
       "(4, 1)"
      ]
     },
     "execution_count": 2,
     "metadata": {},
     "output_type": "execute_result"
    }
   ],
   "source": [
    "A = np.random.randn(4,3) \n",
    "B = np.sum(A, axis = 1, keepdims = True) \n",
    "\n",
    "B.shape"
   ]
  },
  {
   "cell_type": "markdown",
   "id": "403e7670",
   "metadata": {},
   "source": [
    "## Creating an array"
   ]
  },
  {
   "cell_type": "code",
   "execution_count": 4,
   "id": "017d053b",
   "metadata": {},
   "outputs": [
    {
     "name": "stdout",
     "output_type": "stream",
     "text": [
      "[1 2 3 4 5]\n"
     ]
    }
   ],
   "source": [
    "number = np.array([1,2,3,4,5])\n",
    "print(number)"
   ]
  },
  {
   "cell_type": "code",
   "execution_count": 5,
   "id": "043165a2",
   "metadata": {},
   "outputs": [
    {
     "name": "stdout",
     "output_type": "stream",
     "text": [
      "<class 'numpy.ndarray'>\n"
     ]
    }
   ],
   "source": [
    "print(type(number))"
   ]
  },
  {
   "cell_type": "code",
   "execution_count": 6,
   "id": "9bc39a65",
   "metadata": {},
   "outputs": [
    {
     "name": "stdout",
     "output_type": "stream",
     "text": [
      "['sreet' 'avenue' 'city']\n"
     ]
    }
   ],
   "source": [
    "string = np.array([\"sreet\",\"avenue\",\"city\"])\n",
    "print(string)"
   ]
  },
  {
   "cell_type": "code",
   "execution_count": 7,
   "id": "181b5114",
   "metadata": {},
   "outputs": [
    {
     "name": "stdout",
     "output_type": "stream",
     "text": [
      "<class 'numpy.ndarray'>\n"
     ]
    }
   ],
   "source": [
    "print(type(string))"
   ]
  },
  {
   "cell_type": "code",
   "execution_count": 8,
   "id": "bdff7f2a",
   "metadata": {},
   "outputs": [
    {
     "name": "stdout",
     "output_type": "stream",
     "text": [
      "['sreet' 'avenue' 'city']\n"
     ]
    }
   ],
   "source": [
    "# sclicing\n",
    "print(string[0:])"
   ]
  },
  {
   "cell_type": "code",
   "execution_count": 9,
   "id": "657878ff",
   "metadata": {},
   "outputs": [
    {
     "name": "stdout",
     "output_type": "stream",
     "text": [
      "city\n"
     ]
    }
   ],
   "source": [
    "#indexing\n",
    "print(string[2])"
   ]
  },
  {
   "cell_type": "markdown",
   "id": "34b9b25a",
   "metadata": {},
   "source": [
    "## Built in array function"
   ]
  },
  {
   "cell_type": "code",
   "execution_count": 11,
   "id": "40412061",
   "metadata": {},
   "outputs": [
    {
     "name": "stdout",
     "output_type": "stream",
     "text": [
      "[0. 0. 0. 0. 0.]\n"
     ]
    }
   ],
   "source": [
    "# zeros function\n",
    "a = np.zeros(5)\n",
    "print(a)"
   ]
  },
  {
   "cell_type": "code",
   "execution_count": 16,
   "id": "7e24513a",
   "metadata": {},
   "outputs": [
    {
     "name": "stdout",
     "output_type": "stream",
     "text": [
      "[1. 1. 1. 1. 1.]\n"
     ]
    }
   ],
   "source": [
    "# ones function\n",
    "b = np.ones(5)\n",
    "print(b)"
   ]
  },
  {
   "cell_type": "code",
   "execution_count": 15,
   "id": "81ce71e6",
   "metadata": {},
   "outputs": [
    {
     "name": "stdout",
     "output_type": "stream",
     "text": [
      "[0. 0. 0. 0. 0.]\n"
     ]
    }
   ],
   "source": [
    "# empty function\n",
    "c = np.empty(5)\n",
    "print(c)"
   ]
  },
  {
   "cell_type": "code",
   "execution_count": 13,
   "id": "2d8833c3",
   "metadata": {},
   "outputs": [
    {
     "name": "stdout",
     "output_type": "stream",
     "text": [
      "[0 1 2 3 4 5 6 7 8 9]\n"
     ]
    }
   ],
   "source": [
    "# range function\n",
    "d = np.arange(10)\n",
    "print(d)"
   ]
  },
  {
   "cell_type": "code",
   "execution_count": 12,
   "id": "5f6b7e60",
   "metadata": {},
   "outputs": [
    {
     "name": "stdout",
     "output_type": "stream",
     "text": [
      "[ 1  3  5  7  9 11 13 15 17 19]\n"
     ]
    }
   ],
   "source": [
    "# sprcify\n",
    "e = np.arange(1,20,2)\n",
    "print(e)"
   ]
  },
  {
   "cell_type": "code",
   "execution_count": 17,
   "id": "8a8cca14",
   "metadata": {},
   "outputs": [
    {
     "name": "stdout",
     "output_type": "stream",
     "text": [
      "[  1.          11.18367347  21.36734694  31.55102041  41.73469388\n",
      "  51.91836735  62.10204082  72.28571429  82.46938776  92.65306122\n",
      " 102.83673469 113.02040816 123.20408163 133.3877551  143.57142857\n",
      " 153.75510204 163.93877551 174.12244898 184.30612245 194.48979592\n",
      " 204.67346939 214.85714286 225.04081633 235.2244898  245.40816327\n",
      " 255.59183673 265.7755102  275.95918367 286.14285714 296.32653061\n",
      " 306.51020408 316.69387755 326.87755102 337.06122449 347.24489796\n",
      " 357.42857143 367.6122449  377.79591837 387.97959184 398.16326531\n",
      " 408.34693878 418.53061224 428.71428571 438.89795918 449.08163265\n",
      " 459.26530612 469.44897959 479.63265306 489.81632653 500.        ]\n"
     ]
    }
   ],
   "source": [
    "# line space\n",
    "f = np.linspace(1,500,num=50)\n",
    "print(f)"
   ]
  },
  {
   "cell_type": "code",
   "execution_count": 2,
   "id": "92ffa851",
   "metadata": {},
   "outputs": [
    {
     "name": "stdout",
     "output_type": "stream",
     "text": [
      "[1 1 1 1 1]\n"
     ]
    }
   ],
   "source": [
    "# specify data type\n",
    "b = np.ones(5,dtype=np.int64)\n",
    "print(b)"
   ]
  },
  {
   "cell_type": "markdown",
   "id": "80e9329b",
   "metadata": {},
   "source": [
    "## Array function"
   ]
  },
  {
   "cell_type": "code",
   "execution_count": 3,
   "id": "0826b995",
   "metadata": {},
   "outputs": [
    {
     "name": "stdout",
     "output_type": "stream",
     "text": [
      "[12 17 19 16 14 17 29 25 21 20]\n"
     ]
    }
   ],
   "source": [
    "ab = np.array([12,17,19,16,14,17,29,25,21,20])\n",
    "print(ab)"
   ]
  },
  {
   "cell_type": "code",
   "execution_count": 4,
   "id": "42ff71fb",
   "metadata": {},
   "outputs": [
    {
     "name": "stdout",
     "output_type": "stream",
     "text": [
      "[12 14 16 17 17 19 20 21 25 29]\n"
     ]
    }
   ],
   "source": [
    "ab.sort()\n",
    "print(ab)"
   ]
  },
  {
   "cell_type": "code",
   "execution_count": 11,
   "id": "c70aad2d",
   "metadata": {},
   "outputs": [
    {
     "name": "stdout",
     "output_type": "stream",
     "text": [
      "[13 31 37 39 35 34 33]\n",
      "[12 14 16 17 17 19 20 21 25 29 13 31 37 39 35 34 33]\n",
      "[12 13 14 16 17 17 19 20 21 25 29 31 33 34 35 37 39]\n"
     ]
    }
   ],
   "source": [
    "ac = np.array([13,31,37,39,35,34,33])\n",
    "print(ac)\n",
    "ad = np.concatenate((ab,ac))\n",
    "print(ad)\n",
    "ad.sort()\n",
    "print(ad)"
   ]
  },
  {
   "cell_type": "markdown",
   "id": "0e9208d7",
   "metadata": {},
   "source": [
    "## 2D-Array"
   ]
  },
  {
   "cell_type": "code",
   "execution_count": 13,
   "id": "62dcd8c8",
   "metadata": {},
   "outputs": [
    {
     "name": "stdout",
     "output_type": "stream",
     "text": [
      "[[1 2 3 4 5]\n",
      " [6 7 8 9 0]]\n"
     ]
    }
   ],
   "source": [
    "number = np.array([[1,2,3,4,5],[6,7,8,9,0]])\n",
    "print(number)"
   ]
  },
  {
   "cell_type": "code",
   "execution_count": 14,
   "id": "8c4aaa91",
   "metadata": {},
   "outputs": [
    {
     "name": "stdout",
     "output_type": "stream",
     "text": [
      "[[11 12 13 14 15]\n",
      " [16 17 18 19 20]]\n"
     ]
    }
   ],
   "source": [
    "number1 = np.array([[11,12,13,14,15],[16,17,18,19,20]])\n",
    "print(number1)"
   ]
  },
  {
   "cell_type": "code",
   "execution_count": 17,
   "id": "7d5c8f5e",
   "metadata": {},
   "outputs": [
    {
     "name": "stdout",
     "output_type": "stream",
     "text": [
      "[[ 1  2  3  4  5 11 12 13 14 15]\n",
      " [ 6  7  8  9  0 16 17 18 19 20]]\n"
     ]
    }
   ],
   "source": [
    "nom = np.concatenate((number,number1), axis=1)\n",
    "print(nom)"
   ]
  },
  {
   "cell_type": "code",
   "execution_count": 18,
   "id": "b4ea7e0a",
   "metadata": {},
   "outputs": [
    {
     "name": "stdout",
     "output_type": "stream",
     "text": [
      "[[ 1  2  3  4  5]\n",
      " [ 6  7  8  9  0]\n",
      " [11 12 13 14 15]\n",
      " [16 17 18 19 20]]\n"
     ]
    }
   ],
   "source": [
    "nom = np.concatenate((number,number1), axis=0)\n",
    "print(nom)"
   ]
  },
  {
   "cell_type": "code",
   "execution_count": 19,
   "id": "8585eb25",
   "metadata": {},
   "outputs": [
    {
     "name": "stdout",
     "output_type": "stream",
     "text": [
      "[[[ 0  1  2  3  4]\n",
      "  [ 5  6  7  8  9]]\n",
      "\n",
      " [[10 11 12 13 14]\n",
      "  [15 16 17 18 19]]\n",
      "\n",
      " [[20 21 22 23 24]\n",
      "  [25 26 27 28 29]]]\n"
     ]
    }
   ],
   "source": [
    "td = np.array([[[0,1,2,3,4],[5,6,7,8,9]],\n",
    "               [[10,11,12,13,14],[15,16,17,18,19]],\n",
    "               [[20,21,22,23,24],[25,26,27,28,29]]])\n",
    "print(td)"
   ]
  },
  {
   "cell_type": "code",
   "execution_count": 41,
   "id": "0ee899b4",
   "metadata": {},
   "outputs": [
    {
     "name": "stdout",
     "output_type": "stream",
     "text": [
      "14\n"
     ]
    }
   ],
   "source": [
    "# indexing in 3d array\n",
    "print(td[1][0][4])"
   ]
  },
  {
   "cell_type": "code",
   "execution_count": 21,
   "id": "0c84d939",
   "metadata": {},
   "outputs": [
    {
     "name": "stdout",
     "output_type": "stream",
     "text": [
      "2\n",
      "3\n"
     ]
    }
   ],
   "source": [
    "print(nom.ndim)\n",
    "print(td.ndim)"
   ]
  },
  {
   "cell_type": "code",
   "execution_count": 22,
   "id": "c77d4edf",
   "metadata": {},
   "outputs": [
    {
     "name": "stdout",
     "output_type": "stream",
     "text": [
      "20\n",
      "30\n"
     ]
    }
   ],
   "source": [
    "print(nom.size)\n",
    "print(td.size)"
   ]
  },
  {
   "cell_type": "code",
   "execution_count": 23,
   "id": "833e8779",
   "metadata": {},
   "outputs": [
    {
     "name": "stdout",
     "output_type": "stream",
     "text": [
      "(4, 5)\n",
      "(3, 2, 5)\n"
     ]
    }
   ],
   "source": [
    "print(nom.shape)\n",
    "print(td.shape)"
   ]
  },
  {
   "cell_type": "code",
   "execution_count": 30,
   "id": "cef5577c",
   "metadata": {},
   "outputs": [
    {
     "name": "stdout",
     "output_type": "stream",
     "text": [
      "[0 1 2 3 4 5 6 7 8]\n",
      "[[0 1 2]\n",
      " [3 4 5]\n",
      " [6 7 8]]\n"
     ]
    }
   ],
   "source": [
    "# reshape\n",
    "n = np.arange(9)\n",
    "print(n)\n",
    "print(n.reshape(3,3))"
   ]
  },
  {
   "cell_type": "code",
   "execution_count": 32,
   "id": "fd07ded3",
   "metadata": {},
   "outputs": [
    {
     "name": "stdout",
     "output_type": "stream",
     "text": [
      "[1 2 3 4 5 6 7 8 9]\n",
      "(9,)\n"
     ]
    }
   ],
   "source": [
    "# converting 1d into 2d array\n",
    "h = np.array([1,2,3,4,5,6,7,8,9])\n",
    "print(h)\n",
    "print(h.shape)"
   ]
  },
  {
   "cell_type": "code",
   "execution_count": 34,
   "id": "459d85fa",
   "metadata": {
    "scrolled": true
   },
   "outputs": [
    {
     "name": "stdout",
     "output_type": "stream",
     "text": [
      "[[1 2 3 4 5 6 7 8 9]]\n",
      "[[1]\n",
      " [2]\n",
      " [3]\n",
      " [4]\n",
      " [5]\n",
      " [6]\n",
      " [7]\n",
      " [8]\n",
      " [9]]\n"
     ]
    }
   ],
   "source": [
    "k = h[np.newaxis, :]\n",
    "print(k)\n",
    "k = h[:,np.newaxis,]\n",
    "print(k)"
   ]
  }
 ],
 "metadata": {
  "gist": {
   "data": {
    "description": "Desktop/data_science/Untitled.ipynb",
    "public": true
   },
   "id": ""
  },
  "kernelspec": {
   "display_name": "Python 3 (ipykernel)",
   "language": "python",
   "name": "python3"
  },
  "language_info": {
   "codemirror_mode": {
    "name": "ipython",
    "version": 3
   },
   "file_extension": ".py",
   "mimetype": "text/x-python",
   "name": "python",
   "nbconvert_exporter": "python",
   "pygments_lexer": "ipython3",
   "version": "3.10.0"
  },
  "toc": {
   "base_numbering": 1,
   "nav_menu": {},
   "number_sections": true,
   "sideBar": true,
   "skip_h1_title": false,
   "title_cell": "Table of Contents",
   "title_sidebar": "Contents",
   "toc_cell": false,
   "toc_position": {},
   "toc_section_display": true,
   "toc_window_display": false
  },
  "varInspector": {
   "cols": {
    "lenName": 16,
    "lenType": 16,
    "lenVar": 40
   },
   "kernels_config": {
    "python": {
     "delete_cmd_postfix": "",
     "delete_cmd_prefix": "del ",
     "library": "var_list.py",
     "varRefreshCmd": "print(var_dic_list())"
    },
    "r": {
     "delete_cmd_postfix": ") ",
     "delete_cmd_prefix": "rm(",
     "library": "var_list.r",
     "varRefreshCmd": "cat(var_dic_list()) "
    }
   },
   "types_to_exclude": [
    "module",
    "function",
    "builtin_function_or_method",
    "instance",
    "_Feature"
   ],
   "window_display": false
  }
 },
 "nbformat": 4,
 "nbformat_minor": 5
}
