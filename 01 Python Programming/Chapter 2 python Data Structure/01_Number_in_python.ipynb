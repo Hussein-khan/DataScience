{
 "cells": [
  {
   "cell_type": "markdown",
   "id": "81999f87",
   "metadata": {},
   "source": [
    "# Data Structure"
   ]
  },
  {
   "cell_type": "markdown",
   "id": "f1a51706",
   "metadata": {},
   "source": [
    "## Python Numbers"
   ]
  },
  {
   "cell_type": "markdown",
   "id": "50129126",
   "metadata": {},
   "source": [
    "Python supports integers, floating-point numbers and complex numbers. They are defined as int, float, and complex classes in Python."
   ]
  },
  {
   "cell_type": "code",
   "execution_count": 1,
   "id": "ef4ca2e8",
   "metadata": {},
   "outputs": [
    {
     "name": "stdout",
     "output_type": "stream",
     "text": [
      "<class 'int'>\n",
      "<class 'float'>\n",
      "(8+3j)\n",
      "True\n"
     ]
    }
   ],
   "source": [
    "a = 5\n",
    "\n",
    "print(type(a))\n",
    "\n",
    "print(type(5.0))\n",
    "\n",
    "c = 5 + 3j\n",
    "print(c + 3)\n",
    "\n",
    "print(isinstance(c, complex))"
   ]
  },
  {
   "cell_type": "markdown",
   "id": "426df458",
   "metadata": {},
   "source": [
    "In Python, we can represent these numbers by appropriately placing a prefix before that number. The following table lists these prefixes."
   ]
  },
  {
   "cell_type": "code",
   "execution_count": 2,
   "id": "cdf3655c",
   "metadata": {},
   "outputs": [
    {
     "name": "stdout",
     "output_type": "stream",
     "text": [
      "107\n",
      "253\n",
      "13\n"
     ]
    }
   ],
   "source": [
    "# Output: 107\n",
    "print(0b1101011)\n",
    "\n",
    "# Output: 253 (251 + 2)\n",
    "print(0xFB + 0b10)\n",
    "\n",
    "# Output: 13\n",
    "print(0o15)"
   ]
  },
  {
   "cell_type": "markdown",
   "id": "e9c83234",
   "metadata": {},
   "source": [
    "Python provides operations involving fractional numbers through its fractions module."
   ]
  },
  {
   "cell_type": "code",
   "execution_count": 3,
   "id": "2e2730eb",
   "metadata": {},
   "outputs": [
    {
     "name": "stdout",
     "output_type": "stream",
     "text": [
      "3/2\n",
      "5\n",
      "1/3\n"
     ]
    }
   ],
   "source": [
    "import fractions\n",
    "\n",
    "print(fractions.Fraction(1.5))\n",
    "\n",
    "print(fractions.Fraction(5))\n",
    "\n",
    "print(fractions.Fraction(1,3))"
   ]
  },
  {
   "cell_type": "code",
   "execution_count": 4,
   "id": "3b65d08c",
   "metadata": {},
   "outputs": [
    {
     "name": "stdout",
     "output_type": "stream",
     "text": [
      "2476979795053773/2251799813685248\n",
      "11/10\n"
     ]
    }
   ],
   "source": [
    "import fractions\n",
    "\n",
    "# As float\n",
    "# Output: 2476979795053773/2251799813685248\n",
    "print(fractions.Fraction(1.1))\n",
    "\n",
    "# As string\n",
    "# Output: 11/10\n",
    "print(fractions.Fraction('1.1'))"
   ]
  },
  {
   "cell_type": "code",
   "execution_count": 5,
   "id": "fd9ed8ce",
   "metadata": {},
   "outputs": [
    {
     "name": "stdout",
     "output_type": "stream",
     "text": [
      "2/3\n",
      "6/5\n",
      "False\n",
      "True\n"
     ]
    }
   ],
   "source": [
    "from fractions import Fraction as F\n",
    "\n",
    "print(F(1, 3) + F(1, 3))\n",
    "\n",
    "print(1 / F(5, 6))\n",
    "\n",
    "print(F(-3, 10) > 0)\n",
    "\n",
    "print(F(-3, 10) < 0)"
   ]
  },
  {
   "cell_type": "markdown",
   "id": "80f44d31",
   "metadata": {},
   "source": [
    "Python offers modules like math and random to carry out different mathematics like trigonometry, logarithms, probability and statistics, etc."
   ]
  },
  {
   "cell_type": "code",
   "execution_count": 6,
   "id": "4910784b",
   "metadata": {},
   "outputs": [
    {
     "name": "stdout",
     "output_type": "stream",
     "text": [
      "3.141592653589793\n",
      "-1.0\n",
      "22026.465794806718\n",
      "3.0\n",
      "1.1752011936438014\n",
      "720\n"
     ]
    }
   ],
   "source": [
    "import math\n",
    "\n",
    "print(math.pi)\n",
    "\n",
    "print(math.cos(math.pi))\n",
    "\n",
    "print(math.exp(10))\n",
    "\n",
    "print(math.log10(1000))\n",
    "\n",
    "print(math.sinh(1))\n",
    "\n",
    "print(math.factorial(6))"
   ]
  }
 ],
 "metadata": {
  "kernelspec": {
   "display_name": "Python 3 (ipykernel)",
   "language": "python",
   "name": "python3"
  },
  "language_info": {
   "codemirror_mode": {
    "name": "ipython",
    "version": 3
   },
   "file_extension": ".py",
   "mimetype": "text/x-python",
   "name": "python",
   "nbconvert_exporter": "python",
   "pygments_lexer": "ipython3",
   "version": "3.10.0"
  }
 },
 "nbformat": 4,
 "nbformat_minor": 5
}
