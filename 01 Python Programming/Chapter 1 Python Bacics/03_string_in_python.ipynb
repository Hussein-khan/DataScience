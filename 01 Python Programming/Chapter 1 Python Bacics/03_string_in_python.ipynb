{
 "cells": [
  {
   "cell_type": "markdown",
   "id": "44c13633",
   "metadata": {},
   "source": [
    "# Strings"
   ]
  },
  {
   "cell_type": "markdown",
   "id": "fd9773d8",
   "metadata": {},
   "source": [
    "Strings in python are surrounded by either single quotation marks, or double quotation marks.\n",
    "\n",
    "'hello' is the same as \"hello\"."
   ]
  },
  {
   "cell_type": "code",
   "execution_count": 1,
   "id": "0625ad57",
   "metadata": {},
   "outputs": [
    {
     "name": "stdout",
     "output_type": "stream",
     "text": [
      "My name is Muhammad\n"
     ]
    }
   ],
   "source": [
    "# string with double quote\n",
    "print(\"My name is Muhammad\")"
   ]
  },
  {
   "cell_type": "code",
   "execution_count": 2,
   "id": "4e3f1bf0",
   "metadata": {},
   "outputs": [
    {
     "name": "stdout",
     "output_type": "stream",
     "text": [
      "I am from Peshawar\n"
     ]
    }
   ],
   "source": [
    "# string with single quote\n",
    "print('I am from Peshawar')"
   ]
  },
  {
   "cell_type": "code",
   "execution_count": 3,
   "id": "92d2dad6",
   "metadata": {},
   "outputs": [
    {
     "name": "stdout",
     "output_type": "stream",
     "text": [
      "I am intrested in Artificial intelligence\n"
     ]
    }
   ],
   "source": [
    "# string with triple quote\n",
    "print('''I am intrested in Artificial intelligence''')"
   ]
  },
  {
   "cell_type": "code",
   "execution_count": 4,
   "id": "48b2813e",
   "metadata": {},
   "outputs": [
    {
     "name": "stdout",
     "output_type": "stream",
     "text": [
      "what's your name\n"
     ]
    }
   ],
   "source": [
    "# apastrophe in string\n",
    "print(\"what's your name\")"
   ]
  }
 ],
 "metadata": {
  "kernelspec": {
   "display_name": "Python 3 (ipykernel)",
   "language": "python",
   "name": "python3"
  },
  "language_info": {
   "codemirror_mode": {
    "name": "ipython",
    "version": 3
   },
   "file_extension": ".py",
   "mimetype": "text/x-python",
   "name": "python",
   "nbconvert_exporter": "python",
   "pygments_lexer": "ipython3",
   "version": "3.10.0"
  }
 },
 "nbformat": 4,
 "nbformat_minor": 5
}
