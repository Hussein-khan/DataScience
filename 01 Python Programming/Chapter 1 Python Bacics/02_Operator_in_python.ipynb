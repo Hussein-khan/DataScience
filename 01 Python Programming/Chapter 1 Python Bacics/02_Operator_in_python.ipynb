{
 "cells": [
  {
   "cell_type": "markdown",
   "id": "6ac68683",
   "metadata": {},
   "source": [
    "# Operators"
   ]
  },
  {
   "cell_type": "markdown",
   "id": "1b708cd6",
   "metadata": {},
   "source": [
    "Operators are special symbols in Python that carry out arithmetic or logical computation. The value that the operator operates on is called the operand."
   ]
  },
  {
   "cell_type": "code",
   "execution_count": 4,
   "id": "fbbbd467",
   "metadata": {},
   "outputs": [
    {
     "name": "stdout",
     "output_type": "stream",
     "text": [
      "4\n"
     ]
    }
   ],
   "source": [
    "# Addition operator\n",
    "print(2+2)"
   ]
  },
  {
   "cell_type": "code",
   "execution_count": 5,
   "id": "989550bd",
   "metadata": {},
   "outputs": [
    {
     "name": "stdout",
     "output_type": "stream",
     "text": [
      "-1\n"
     ]
    }
   ],
   "source": [
    "# Subtraction operator\n",
    "print(2-3)"
   ]
  },
  {
   "cell_type": "code",
   "execution_count": 6,
   "id": "485fd356",
   "metadata": {},
   "outputs": [
    {
     "name": "stdout",
     "output_type": "stream",
     "text": [
      "2.0\n",
      "2\n"
     ]
    }
   ],
   "source": [
    "# Division operator\n",
    "\n",
    "#value in float\n",
    "print(8 / 4)\n",
    "\n",
    "#value in integer\n",
    "print(8//4) "
   ]
  },
  {
   "cell_type": "code",
   "execution_count": 7,
   "id": "a57fd4b9",
   "metadata": {},
   "outputs": [
    {
     "name": "stdout",
     "output_type": "stream",
     "text": [
      "15\n"
     ]
    }
   ],
   "source": [
    "# Multiplication operator\n",
    "print(3 * 5)"
   ]
  },
  {
   "cell_type": "code",
   "execution_count": 1,
   "id": "899369c6",
   "metadata": {},
   "outputs": [
    {
     "name": "stdout",
     "output_type": "stream",
     "text": [
      "32\n"
     ]
    }
   ],
   "source": [
    "# Exponent - left operand raised to the power of right\n",
    "print(2 ** 5)"
   ]
  },
  {
   "cell_type": "code",
   "execution_count": 8,
   "id": "3f74e657",
   "metadata": {},
   "outputs": [
    {
     "name": "stdout",
     "output_type": "stream",
     "text": [
      "1\n"
     ]
    }
   ],
   "source": [
    "# Modulas operator\n",
    "print(10 % 3)"
   ]
  }
 ],
 "metadata": {
  "kernelspec": {
   "display_name": "Python 3 (ipykernel)",
   "language": "python",
   "name": "python3"
  },
  "language_info": {
   "codemirror_mode": {
    "name": "ipython",
    "version": 3
   },
   "file_extension": ".py",
   "mimetype": "text/x-python",
   "name": "python",
   "nbconvert_exporter": "python",
   "pygments_lexer": "ipython3",
   "version": "3.10.0"
  }
 },
 "nbformat": 4,
 "nbformat_minor": 5
}
