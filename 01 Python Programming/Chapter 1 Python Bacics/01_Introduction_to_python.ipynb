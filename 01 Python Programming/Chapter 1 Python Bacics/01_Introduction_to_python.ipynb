{
 "cells": [
  {
   "cell_type": "markdown",
   "id": "f648d76d",
   "metadata": {},
   "source": [
    "# Python"
   ]
  },
  {
   "cell_type": "markdown",
   "id": "5c4f35ca",
   "metadata": {},
   "source": [
    "## Introduction\n",
    "Python is an interpreted high-level general-purpose programming language. Its design philosophy emphasizes code readability with its use of significant indentation. Its language constructs as well as its object-oriented approach aim to help programmers write clear, logical code for small and large-scale projects."
   ]
  },
  {
   "cell_type": "code",
   "execution_count": 1,
   "id": "1bf62596",
   "metadata": {},
   "outputs": [
    {
     "name": "stdout",
     "output_type": "stream",
     "text": [
      "hello world\n"
     ]
    }
   ],
   "source": [
    "# Your First app in python \n",
    "print (\"hello world\")"
   ]
  },
  {
   "cell_type": "code",
   "execution_count": 2,
   "id": "5a95bcec",
   "metadata": {},
   "outputs": [
    {
     "name": "stdout",
     "output_type": "stream",
     "text": [
      "my name is Muhammad\n"
     ]
    }
   ],
   "source": [
    "# Your Name \n",
    "print(\"my name is Muhammad\")"
   ]
  },
  {
   "cell_type": "code",
   "execution_count": 3,
   "id": "86fcc8c9",
   "metadata": {},
   "outputs": [
    {
     "name": "stdout",
     "output_type": "stream",
     "text": [
      "I am BS student of computer science\n"
     ]
    }
   ],
   "source": [
    "# Your Qualification\n",
    "print(\"I am BS student of computer science\")"
   ]
  }
 ],
 "metadata": {
  "kernelspec": {
   "display_name": "Python 3 (ipykernel)",
   "language": "python",
   "name": "python3"
  },
  "language_info": {
   "codemirror_mode": {
    "name": "ipython",
    "version": 3
   },
   "file_extension": ".py",
   "mimetype": "text/x-python",
   "name": "python",
   "nbconvert_exporter": "python",
   "pygments_lexer": "ipython3",
   "version": "3.9.7"
  }
 },
 "nbformat": 4,
 "nbformat_minor": 5
}
