{
 "cells": [
  {
   "cell_type": "markdown",
   "id": "0386eabe",
   "metadata": {},
   "source": [
    "## Variables "
   ]
  },
  {
   "cell_type": "markdown",
   "id": "f64557b3",
   "metadata": {},
   "source": [
    "A variable is a named location used to store data in the memory. It is helpful to think of variables as a container that holds data that can be changed later in the program. For example,"
   ]
  },
  {
   "cell_type": "code",
   "execution_count": 3,
   "id": "e379a088",
   "metadata": {},
   "outputs": [
    {
     "name": "stdout",
     "output_type": "stream",
     "text": [
      "19\n"
     ]
    }
   ],
   "source": [
    "age = 19\n",
    "print(age)"
   ]
  },
  {
   "cell_type": "markdown",
   "id": "6a6774d9",
   "metadata": {},
   "source": [
    "Here, we have created a variable named age. We have assigned the value 19 to the variable."
   ]
  },
  {
   "cell_type": "code",
   "execution_count": 4,
   "id": "ebdf2c58",
   "metadata": {},
   "outputs": [
    {
     "name": "stdout",
     "output_type": "stream",
     "text": [
      "23\n"
     ]
    }
   ],
   "source": [
    "#updating varagle\n",
    "age = age + 4 \n",
    "print(age)"
   ]
  },
  {
   "cell_type": "markdown",
   "id": "8f7b48f1",
   "metadata": {},
   "source": [
    "Example 1: Declaring and assigning value to a variable "
   ]
  },
  {
   "cell_type": "code",
   "execution_count": 5,
   "id": "503affb1",
   "metadata": {},
   "outputs": [
    {
     "name": "stdout",
     "output_type": "stream",
     "text": [
      "apple.com\n"
     ]
    }
   ],
   "source": [
    "website = \"apple.com\"\n",
    "print(website)"
   ]
  },
  {
   "cell_type": "markdown",
   "id": "4c7aea61",
   "metadata": {},
   "source": [
    "Example 2: Changing the value of a variable"
   ]
  },
  {
   "cell_type": "code",
   "execution_count": 6,
   "id": "dcfef315",
   "metadata": {},
   "outputs": [
    {
     "name": "stdout",
     "output_type": "stream",
     "text": [
      "apple.com\n",
      "programiz.com\n"
     ]
    }
   ],
   "source": [
    "website = \"apple.com\"\n",
    "print(website)\n",
    "\n",
    "# assigning a new value to website\n",
    "website = \"programiz.com\"\n",
    "\n",
    "print(website)"
   ]
  },
  {
   "cell_type": "markdown",
   "id": "462c4392",
   "metadata": {},
   "source": [
    "Example 3: Assigning multiple values to multiple variables"
   ]
  },
  {
   "cell_type": "code",
   "execution_count": 7,
   "id": "f43d2eee",
   "metadata": {},
   "outputs": [
    {
     "name": "stdout",
     "output_type": "stream",
     "text": [
      "5\n",
      "3.2\n",
      "Hello\n"
     ]
    }
   ],
   "source": [
    "a, b, c = 5, 3.2, \"Hello\"\n",
    "\n",
    "print (a)\n",
    "print (b)\n",
    "print (c)"
   ]
  }
 ],
 "metadata": {
  "kernelspec": {
   "display_name": "Python 3 (ipykernel)",
   "language": "python",
   "name": "python3"
  },
  "language_info": {
   "codemirror_mode": {
    "name": "ipython",
    "version": 3
   },
   "file_extension": ".py",
   "mimetype": "text/x-python",
   "name": "python",
   "nbconvert_exporter": "python",
   "pygments_lexer": "ipython3",
   "version": "3.10.0"
  }
 },
 "nbformat": 4,
 "nbformat_minor": 5
}
